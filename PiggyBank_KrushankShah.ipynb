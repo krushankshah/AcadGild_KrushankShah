{
 "cells": [
  {
   "cell_type": "code",
   "execution_count": 1,
   "metadata": {},
   "outputs": [
    {
     "name": "stdout",
     "output_type": "stream",
     "text": [
      "Please enter username : user1\n",
      "Please enter password : pwd1\n",
      "Login successful\n",
      "800\n",
      "Piggybank balance, after withdrawal is 600\n",
      "600\n"
     ]
    }
   ],
   "source": [
    "class Piggy_bank:\n",
    "    Balance = 0\n",
    "    User_Pwd_Dict = {'krushank' : '123', 'user1' : 'pwd1', 'user2' : 'pwd2'}\n",
    "    \n",
    "    def login_dict(self):\n",
    "        username = input(\"Please enter username : \")\n",
    "        password = input(\"Please enter password : \")\n",
    "        if username in self.User_Pwd_Dict:\n",
    "            print(\"Login successful\") if self.User_Pwd_Dict[username] == password else print(\"Login Unsuccessful\")\n",
    "        else: print(\"Username or password invalid\")\n",
    "    \n",
    "    def add_money(self, added_money = 0):\n",
    "        self.Balance += added_money\n",
    "        \n",
    "    def balance_check(self):\n",
    "        return self.Balance\n",
    "    \n",
    "    def withdraw_money(self, withdraw_amount):\n",
    "        if(self.Balance < withdraw_amount):\n",
    "            print(\"Withdrawal amonut is greater than balance amount in piggy bank,\\nYou can withdraw maximum {}\".format(self._balance))\n",
    "        else:\n",
    "            self.Balance -= withdraw_amount\n",
    "            print(\"Piggybank balance, after withdrawal is {}\".format(self.Balance))\n",
    "\n",
    "krushank = Piggy_bank()\n",
    "krushank.login_dict()\n",
    "krushank.balance_check()\n",
    "krushank.add_money(800)\n",
    "print(krushank.balance_check())\n",
    "krushank.withdraw_money(200)\n",
    "print(krushank.balance_check())"
   ]
  },
  {
   "cell_type": "code",
   "execution_count": null,
   "metadata": {},
   "outputs": [],
   "source": []
  }
 ],
 "metadata": {
  "kernelspec": {
   "display_name": "Python 3",
   "language": "python",
   "name": "python3"
  },
  "language_info": {
   "codemirror_mode": {
    "name": "ipython",
    "version": 3
   },
   "file_extension": ".py",
   "mimetype": "text/x-python",
   "name": "python",
   "nbconvert_exporter": "python",
   "pygments_lexer": "ipython3",
   "version": "3.7.1"
  }
 },
 "nbformat": 4,
 "nbformat_minor": 2
}
